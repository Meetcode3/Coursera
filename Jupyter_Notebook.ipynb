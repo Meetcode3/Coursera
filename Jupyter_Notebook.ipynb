{
 "cells": [
  {
   "cell_type": "markdown",
   "metadata": {},
   "source": [
    "<center>\n",
    "    <img src=\"https://cf-courses-data.s3.us.cloud-object-storage.appdomain.cloud/IBMDeveloperSkillsNetwork-DS0105EN-SkillsNetwork/labs/Module2/images/SN_web_lightmode.png\" width=\"300\" alt=\"cognitiveclass.ai logo\"  />\n",
    "</center>\n"
   ]
  },
  {
   "cell_type": "markdown",
   "metadata": {},
   "source": [
    "#### Add your code below following the instructions given in the course\n"
   ]
  },
  {
   "cell_type": "markdown",
   "metadata": {
    "tags": []
   },
   "source": [
    "<h1>My Jupyter Notebook on IBM Watson Studio</h1>"
   ]
  },
  {
   "cell_type": "markdown",
   "metadata": {},
   "source": [
    " **Meet Dave** <br>\n",
    "Data Scientist"
   ]
  },
  {
   "cell_type": "markdown",
   "metadata": {},
   "source": [
    "*I am interested in data science because I find it very fascinating how we can structure the data available to us and make a difference in any business decision.*"
   ]
  },
  {
   "cell_type": "markdown",
   "metadata": {},
   "source": [
    "<h3>The following code shows the square of sum of two numbers </h3>"
   ]
  },
  {
   "cell_type": "code",
   "execution_count": 1,
   "metadata": {},
   "outputs": [
    {
     "name": "stdout",
     "output_type": "stream",
     "text": [
      "the square of sum of 3 and 5 is : 64\n"
     ]
    }
   ],
   "source": [
    "\n",
    "a=3\n",
    "b=5\n",
    "c=a+b\n",
    "# def sq(c):\n",
    "#     print(c*c)\n",
    "#\n",
    "# d= sq(c)\n",
    "print('the square of sum of 3 and 5 is :' , pow(c,2))\n"
   ]
  },
  {
   "cell_type": "markdown",
   "metadata": {},
   "source": [
    "- Bullet point\n",
    "    - sub bullet point\n",
    "    \n",
    "1. First Numbered point\n",
    "    1. first sub numbered point\n",
    "    1. second sub numbered point\n",
    " <br><br>\n",
    "\n",
    "1. Second Numbered point\n",
    "    1. first sub numbered point\n",
    "    1. second sub numbered point\n",
    "    \n",
    "\n",
    "***\n",
    "\n",
    "<a href=\"title bar\"> title <a>"
   ]
  },
  {
   "cell_type": "markdown",
   "metadata": {},
   "source": [
    "<div class=\"alert alert-block alert-success\">\n",
    "<b>Up to you:</b> Use green boxes sparingly, and only for some specific \n",
    "purpose that the other boxes can't cover. For example, if you have a lot \n",
    "of related content to link to, maybe you decide to use green boxes for \n",
    "related links from each section of a notebook.\n",
    "</div>\n"
   ]
  },
  {
   "cell_type": "code",
   "execution_count": null,
   "metadata": {},
   "outputs": [],
   "source": []
  }
 ],
 "metadata": {
  "kernelspec": {
   "display_name": "Python",
   "language": "python",
   "name": "conda-env-python-py"
  },
  "language_info": {
   "codemirror_mode": {
    "name": "ipython",
    "version": 3
   },
   "file_extension": ".py",
   "mimetype": "text/x-python",
   "name": "python",
   "nbconvert_exporter": "python",
   "pygments_lexer": "ipython3",
   "version": "3.7.12"
  }
 },
 "nbformat": 4,
 "nbformat_minor": 4
}
